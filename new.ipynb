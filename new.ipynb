{
 "cells": [
  {
   "cell_type": "code",
   "execution_count": 3,
   "metadata": {},
   "outputs": [
    {
     "data": {
      "text/plain": [
       "1613"
      ]
     },
     "execution_count": 3,
     "metadata": {},
     "output_type": "execute_result"
    }
   ],
   "source": [
    "from mordred import Calculator, descriptors\n",
    "from rdkit import Chem\n",
    "\n",
    "calc=Calculator(descriptors, ignore_3D=True)\n",
    "\n",
    "len(calc.descriptors)"
   ]
  },
  {
   "cell_type": "code",
   "execution_count": 2,
   "metadata": {},
   "outputs": [
    {
     "data": {
      "text/html": [
       "<div>\n",
       "<style scoped>\n",
       "    .dataframe tbody tr th:only-of-type {\n",
       "        vertical-align: middle;\n",
       "    }\n",
       "\n",
       "    .dataframe tbody tr th {\n",
       "        vertical-align: top;\n",
       "    }\n",
       "\n",
       "    .dataframe thead th {\n",
       "        text-align: right;\n",
       "    }\n",
       "</style>\n",
       "<table border=\"1\" class=\"dataframe\">\n",
       "  <thead>\n",
       "    <tr style=\"text-align: right;\">\n",
       "      <th></th>\n",
       "      <th>Name</th>\n",
       "      <th>Test_ID</th>\n",
       "      <th>Smiles</th>\n",
       "      <th>Sweetness</th>\n",
       "      <th>logSw</th>\n",
       "    </tr>\n",
       "  </thead>\n",
       "  <tbody>\n",
       "    <tr>\n",
       "      <th>0</th>\n",
       "      <td>1',4',6'-3Cl-sucrose</td>\n",
       "      <td>test_1</td>\n",
       "      <td>ClC1C(O)[C@@](OC1CCl)(OC1OC(CO)C(O)C(O)C1O)CCl</td>\n",
       "      <td>10000.0</td>\n",
       "      <td>4.00</td>\n",
       "    </tr>\n",
       "    <tr>\n",
       "      <th>1</th>\n",
       "      <td>1',4'-2Cl-sucrose</td>\n",
       "      <td>test_2</td>\n",
       "      <td>ClC1C(O)[C@@](OC1CO)(OC1OC(CO)C(O)C(O)C1O)CCl</td>\n",
       "      <td>3000.0</td>\n",
       "      <td>3.48</td>\n",
       "    </tr>\n",
       "    <tr>\n",
       "      <th>2</th>\n",
       "      <td>1',6'-2Cl-sucrose</td>\n",
       "      <td>test_3</td>\n",
       "      <td>ClCC1O[C@](OC2OC(CO)C(O)C(O)C2O)(CCl)C(O)C1O</td>\n",
       "      <td>7800.0</td>\n",
       "      <td>3.89</td>\n",
       "    </tr>\n",
       "    <tr>\n",
       "      <th>3</th>\n",
       "      <td>1'-Cl-sucrose</td>\n",
       "      <td>test_4</td>\n",
       "      <td>ClC[C@]1(OC(CO)C(O)C1O)OC1OC(CO)C(O)C(O)C1O</td>\n",
       "      <td>2000.0</td>\n",
       "      <td>3.30</td>\n",
       "    </tr>\n",
       "    <tr>\n",
       "      <th>4</th>\n",
       "      <td>4'-Br-4,1',6'-3Cl-sucrose</td>\n",
       "      <td>test_5</td>\n",
       "      <td>BrC1C(O)[C@@](OC1CCl)(OC1OC(CO)C(Cl)C(O)C1O)CCl</td>\n",
       "      <td>325000.0</td>\n",
       "      <td>5.51</td>\n",
       "    </tr>\n",
       "  </tbody>\n",
       "</table>\n",
       "</div>"
      ],
      "text/plain": [
       "                        Name Test_ID  \\\n",
       "0       1',4',6'-3Cl-sucrose  test_1   \n",
       "1          1',4'-2Cl-sucrose  test_2   \n",
       "2          1',6'-2Cl-sucrose  test_3   \n",
       "3              1'-Cl-sucrose  test_4   \n",
       "4  4'-Br-4,1',6'-3Cl-sucrose  test_5   \n",
       "\n",
       "                                            Smiles  Sweetness  logSw  \n",
       "0   ClC1C(O)[C@@](OC1CCl)(OC1OC(CO)C(O)C(O)C1O)CCl    10000.0   4.00  \n",
       "1    ClC1C(O)[C@@](OC1CO)(OC1OC(CO)C(O)C(O)C1O)CCl     3000.0   3.48  \n",
       "2     ClCC1O[C@](OC2OC(CO)C(O)C(O)C2O)(CCl)C(O)C1O     7800.0   3.89  \n",
       "3      ClC[C@]1(OC(CO)C(O)C1O)OC1OC(CO)C(O)C(O)C1O     2000.0   3.30  \n",
       "4  BrC1C(O)[C@@](OC1CCl)(OC1OC(CO)C(Cl)C(O)C1O)CCl   325000.0   5.51  "
      ]
     },
     "execution_count": 2,
     "metadata": {},
     "output_type": "execute_result"
    }
   ],
   "source": [
    "import numpy as np\n",
    "import pandas as pd\n",
    "\n",
    "df = pd.read_csv('Data/SweetpredDB.csv')\n",
    "df.head()"
   ]
  },
  {
   "cell_type": "code",
   "execution_count": 5,
   "metadata": {},
   "outputs": [],
   "source": [
    "# making a seperate .smi file of Test_ID and Smiles\n",
    "df_smiles = df['Smiles']\n",
    "df_smiles.to_csv('Data/SweetpredDB_smiles.smi', sep='\\t', index=False, header=False)\n"
   ]
  }
 ],
 "metadata": {
  "kernelspec": {
   "display_name": "Python 3",
   "language": "python",
   "name": "python3"
  },
  "language_info": {
   "codemirror_mode": {
    "name": "ipython",
    "version": 3
   },
   "file_extension": ".py",
   "mimetype": "text/x-python",
   "name": "python",
   "nbconvert_exporter": "python",
   "pygments_lexer": "ipython3",
   "version": "3.10.13"
  }
 },
 "nbformat": 4,
 "nbformat_minor": 2
}
