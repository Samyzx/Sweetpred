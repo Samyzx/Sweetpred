{
 "cells": [
  {
   "cell_type": "code",
   "execution_count": 1,
   "metadata": {},
   "outputs": [],
   "source": [
    "import pandas as pd\n",
    "import os\n",
    "import numpy as np "
   ]
  },
  {
   "cell_type": "code",
   "execution_count": 2,
   "metadata": {},
   "outputs": [
    {
     "data": {
      "text/html": [
       "<div>\n",
       "<style scoped>\n",
       "    .dataframe tbody tr th:only-of-type {\n",
       "        vertical-align: middle;\n",
       "    }\n",
       "\n",
       "    .dataframe tbody tr th {\n",
       "        vertical-align: top;\n",
       "    }\n",
       "\n",
       "    .dataframe thead th {\n",
       "        text-align: right;\n",
       "    }\n",
       "</style>\n",
       "<table border=\"1\" class=\"dataframe\">\n",
       "  <thead>\n",
       "    <tr style=\"text-align: right;\">\n",
       "      <th></th>\n",
       "      <th>Name</th>\n",
       "      <th>Test_ID</th>\n",
       "      <th>Smiles</th>\n",
       "      <th>Sweetness</th>\n",
       "      <th>logSw</th>\n",
       "    </tr>\n",
       "  </thead>\n",
       "  <tbody>\n",
       "    <tr>\n",
       "      <th>0</th>\n",
       "      <td>1',4',6'-3Cl-sucrose</td>\n",
       "      <td>test_1</td>\n",
       "      <td>ClC1C(O)[C@@](OC1CCl)(OC1OC(CO)C(O)C(O)C1O)CCl</td>\n",
       "      <td>10000.0</td>\n",
       "      <td>4.00</td>\n",
       "    </tr>\n",
       "    <tr>\n",
       "      <th>1</th>\n",
       "      <td>1',4'-2Cl-sucrose</td>\n",
       "      <td>test_2</td>\n",
       "      <td>ClC1C(O)[C@@](OC1CO)(OC1OC(CO)C(O)C(O)C1O)CCl</td>\n",
       "      <td>3000.0</td>\n",
       "      <td>3.48</td>\n",
       "    </tr>\n",
       "    <tr>\n",
       "      <th>2</th>\n",
       "      <td>1',6'-2Cl-sucrose</td>\n",
       "      <td>test_3</td>\n",
       "      <td>ClCC1O[C@](OC2OC(CO)C(O)C(O)C2O)(CCl)C(O)C1O</td>\n",
       "      <td>7800.0</td>\n",
       "      <td>3.89</td>\n",
       "    </tr>\n",
       "    <tr>\n",
       "      <th>3</th>\n",
       "      <td>1'-Cl-sucrose</td>\n",
       "      <td>test_4</td>\n",
       "      <td>ClC[C@]1(OC(CO)C(O)C1O)OC1OC(CO)C(O)C(O)C1O</td>\n",
       "      <td>2000.0</td>\n",
       "      <td>3.30</td>\n",
       "    </tr>\n",
       "    <tr>\n",
       "      <th>4</th>\n",
       "      <td>4'-Br-4,1',6'-3Cl-sucrose</td>\n",
       "      <td>test_5</td>\n",
       "      <td>BrC1C(O)[C@@](OC1CCl)(OC1OC(CO)C(Cl)C(O)C1O)CCl</td>\n",
       "      <td>325000.0</td>\n",
       "      <td>5.51</td>\n",
       "    </tr>\n",
       "  </tbody>\n",
       "</table>\n",
       "</div>"
      ],
      "text/plain": [
       "                        Name Test_ID  \\\n",
       "0       1',4',6'-3Cl-sucrose  test_1   \n",
       "1          1',4'-2Cl-sucrose  test_2   \n",
       "2          1',6'-2Cl-sucrose  test_3   \n",
       "3              1'-Cl-sucrose  test_4   \n",
       "4  4'-Br-4,1',6'-3Cl-sucrose  test_5   \n",
       "\n",
       "                                            Smiles  Sweetness  logSw  \n",
       "0   ClC1C(O)[C@@](OC1CCl)(OC1OC(CO)C(O)C(O)C1O)CCl    10000.0   4.00  \n",
       "1    ClC1C(O)[C@@](OC1CO)(OC1OC(CO)C(O)C(O)C1O)CCl     3000.0   3.48  \n",
       "2     ClCC1O[C@](OC2OC(CO)C(O)C(O)C2O)(CCl)C(O)C1O     7800.0   3.89  \n",
       "3      ClC[C@]1(OC(CO)C(O)C1O)OC1OC(CO)C(O)C(O)C1O     2000.0   3.30  \n",
       "4  BrC1C(O)[C@@](OC1CCl)(OC1OC(CO)C(Cl)C(O)C1O)CCl   325000.0   5.51  "
      ]
     },
     "execution_count": 2,
     "metadata": {},
     "output_type": "execute_result"
    }
   ],
   "source": [
    "# This script calculates the molecular descriptors for the molecules in the dataset\n",
    "# The descriptors are calculated using the PaDEL-Descriptor software\n",
    "\n",
    "# read the dataset\n",
    "df = pd.read_csv('SweetpredDB.csv')\n",
    "df.head()"
   ]
  },
  {
   "cell_type": "code",
   "execution_count": 3,
   "metadata": {},
   "outputs": [
    {
     "data": {
      "text/plain": [
       "['AtomPairs2DFingerprintCount.xml',\n",
       " 'AtomPairs2DFingerprinter.xml',\n",
       " 'EStateFingerprinter.xml',\n",
       " 'ExtendedFingerprinter.xml',\n",
       " 'Fingerprinter.xml',\n",
       " 'GraphOnlyFingerprinter.xml',\n",
       " 'KlekotaRothFingerprintCount.xml',\n",
       " 'KlekotaRothFingerprinter.xml',\n",
       " 'MACCSFingerprinter.xml',\n",
       " 'PubchemFingerprinter.xml',\n",
       " 'SubstructureFingerprintCount.xml',\n",
       " 'SubstructureFingerprinter.xml']"
      ]
     },
     "execution_count": 3,
     "metadata": {},
     "output_type": "execute_result"
    }
   ],
   "source": [
    "import glob\n",
    "xml_files = glob.glob('*.xml')\n",
    "xml_files.sort()\n",
    "xml_files"
   ]
  },
  {
   "cell_type": "code",
   "execution_count": 4,
   "metadata": {},
   "outputs": [],
   "source": [
    "FP_list = ['AtomPairs2DCount',\n",
    " 'AtomPairs2D',\n",
    " 'EState',\n",
    " 'CDKextended',\n",
    " 'CDK',\n",
    " 'CDKgraphonly',\n",
    " 'KlekotaRothCount',\n",
    " 'KlekotaRoth',\n",
    " 'MACCS',\n",
    " 'PubChem',\n",
    " 'SubstructureCount',\n",
    " 'Substructure']"
   ]
  },
  {
   "cell_type": "code",
   "execution_count": 5,
   "metadata": {},
   "outputs": [
    {
     "data": {
      "text/plain": [
       "{'AtomPairs2DCount': 'AtomPairs2DFingerprintCount.xml',\n",
       " 'AtomPairs2D': 'AtomPairs2DFingerprinter.xml',\n",
       " 'EState': 'EStateFingerprinter.xml',\n",
       " 'CDKextended': 'ExtendedFingerprinter.xml',\n",
       " 'CDK': 'Fingerprinter.xml',\n",
       " 'CDKgraphonly': 'GraphOnlyFingerprinter.xml',\n",
       " 'KlekotaRothCount': 'KlekotaRothFingerprintCount.xml',\n",
       " 'KlekotaRoth': 'KlekotaRothFingerprinter.xml',\n",
       " 'MACCS': 'MACCSFingerprinter.xml',\n",
       " 'PubChem': 'PubchemFingerprinter.xml',\n",
       " 'SubstructureCount': 'SubstructureFingerprintCount.xml',\n",
       " 'Substructure': 'SubstructureFingerprinter.xml'}"
      ]
     },
     "execution_count": 5,
     "metadata": {},
     "output_type": "execute_result"
    }
   ],
   "source": [
    "# creating mapping dictionary for the descriptors to XML files\n",
    "mapping = dict(zip(FP_list, xml_files))\n",
    "mapping\n"
   ]
  },
  {
   "cell_type": "code",
   "execution_count": 6,
   "metadata": {},
   "outputs": [
    {
     "data": {
      "text/html": [
       "<div>\n",
       "<style scoped>\n",
       "    .dataframe tbody tr th:only-of-type {\n",
       "        vertical-align: middle;\n",
       "    }\n",
       "\n",
       "    .dataframe tbody tr th {\n",
       "        vertical-align: top;\n",
       "    }\n",
       "\n",
       "    .dataframe thead th {\n",
       "        text-align: right;\n",
       "    }\n",
       "</style>\n",
       "<table border=\"1\" class=\"dataframe\">\n",
       "  <thead>\n",
       "    <tr style=\"text-align: right;\">\n",
       "      <th></th>\n",
       "      <th>Test_ID</th>\n",
       "      <th>Smiles</th>\n",
       "    </tr>\n",
       "  </thead>\n",
       "  <tbody>\n",
       "    <tr>\n",
       "      <th>0</th>\n",
       "      <td>test_1</td>\n",
       "      <td>ClC1C(O)[C@@](OC1CCl)(OC1OC(CO)C(O)C(O)C1O)CCl</td>\n",
       "    </tr>\n",
       "    <tr>\n",
       "      <th>1</th>\n",
       "      <td>test_2</td>\n",
       "      <td>ClC1C(O)[C@@](OC1CO)(OC1OC(CO)C(O)C(O)C1O)CCl</td>\n",
       "    </tr>\n",
       "    <tr>\n",
       "      <th>2</th>\n",
       "      <td>test_3</td>\n",
       "      <td>ClCC1O[C@](OC2OC(CO)C(O)C(O)C2O)(CCl)C(O)C1O</td>\n",
       "    </tr>\n",
       "    <tr>\n",
       "      <th>3</th>\n",
       "      <td>test_4</td>\n",
       "      <td>ClC[C@]1(OC(CO)C(O)C1O)OC1OC(CO)C(O)C(O)C1O</td>\n",
       "    </tr>\n",
       "    <tr>\n",
       "      <th>4</th>\n",
       "      <td>test_5</td>\n",
       "      <td>BrC1C(O)[C@@](OC1CCl)(OC1OC(CO)C(Cl)C(O)C1O)CCl</td>\n",
       "    </tr>\n",
       "  </tbody>\n",
       "</table>\n",
       "</div>"
      ],
      "text/plain": [
       "  Test_ID                                           Smiles\n",
       "0  test_1   ClC1C(O)[C@@](OC1CCl)(OC1OC(CO)C(O)C(O)C1O)CCl\n",
       "1  test_2    ClC1C(O)[C@@](OC1CO)(OC1OC(CO)C(O)C(O)C1O)CCl\n",
       "2  test_3     ClCC1O[C@](OC2OC(CO)C(O)C(O)C2O)(CCl)C(O)C1O\n",
       "3  test_4      ClC[C@]1(OC(CO)C(O)C1O)OC1OC(CO)C(O)C(O)C1O\n",
       "4  test_5  BrC1C(O)[C@@](OC1CCl)(OC1OC(CO)C(Cl)C(O)C1O)CCl"
      ]
     },
     "execution_count": 6,
     "metadata": {},
     "output_type": "execute_result"
    }
   ],
   "source": [
    "# making a seperate data of molecule smiles with their IDs\n",
    "df_smiles = df[['Test_ID', 'Smiles']]\n",
    "df_smiles.to_csv('molecule.smi', sep='\\t', index=False, header=False)\n",
    "df_smiles.head()"
   ]
  },
  {
   "cell_type": "code",
   "execution_count": 3,
   "metadata": {},
   "outputs": [
    {
     "ename": "NameError",
     "evalue": "name 'df_smiles' is not defined",
     "output_type": "error",
     "traceback": [
      "\u001b[0;31m---------------------------------------------------------------------------\u001b[0m",
      "\u001b[0;31mNameError\u001b[0m                                 Traceback (most recent call last)",
      "Cell \u001b[0;32mIn[3], line 5\u001b[0m\n\u001b[1;32m      1\u001b[0m \u001b[38;5;28;01mfrom\u001b[39;00m \u001b[38;5;21;01mpadelpy\u001b[39;00m \u001b[38;5;28;01mimport\u001b[39;00m from_smiles, padeldescriptor\n\u001b[1;32m      3\u001b[0m \u001b[38;5;66;03m# get descriptors for 1st molecule from df_smiles\u001b[39;00m\n\u001b[1;32m      4\u001b[0m \u001b[38;5;66;03m# first smile\u001b[39;00m\n\u001b[0;32m----> 5\u001b[0m smile \u001b[38;5;241m=\u001b[39m \u001b[43mdf_smiles\u001b[49m[\u001b[38;5;124m'\u001b[39m\u001b[38;5;124mSmiles\u001b[39m\u001b[38;5;124m'\u001b[39m][\u001b[38;5;241m500\u001b[39m]\n\u001b[1;32m      6\u001b[0m descriptor \u001b[38;5;241m=\u001b[39m from_smiles(smile, threads\u001b[38;5;241m=\u001b[39m\u001b[38;5;241m2\u001b[39m, descriptors\u001b[38;5;241m=\u001b[39m\u001b[38;5;28;01mTrue\u001b[39;00m)\n",
      "\u001b[0;31mNameError\u001b[0m: name 'df_smiles' is not defined"
     ]
    }
   ],
   "source": [
    "from padelpy import from_smiles, padeldescriptor\n",
    "\n",
    "# get descriptors for 1st molecule from df_smiles\n",
    "# first smile\n",
    "smile = df_smiles['Smiles'][500]\n",
    "descriptor = from_smiles(smile, threads=2, descriptors=True)"
   ]
  },
  {
   "cell_type": "code",
   "execution_count": 27,
   "metadata": {},
   "outputs": [
    {
     "name": "stdout",
     "output_type": "stream",
     "text": [
      "1875\n"
     ]
    }
   ],
   "source": [
    "print(len(descriptor))"
   ]
  },
  {
   "cell_type": "code",
   "execution_count": 7,
   "metadata": {},
   "outputs": [
    {
     "ename": "RuntimeError",
     "evalue": "PaDEL-Descriptor failed on Data/SweetpredDB_smiles.smi. Ensure input structure is correct.",
     "output_type": "error",
     "traceback": [
      "\u001b[0;31m---------------------------------------------------------------------------\u001b[0m",
      "\u001b[0;31mRuntimeError\u001b[0m                              Traceback (most recent call last)",
      "Cell \u001b[0;32mIn[7], line 2\u001b[0m\n\u001b[1;32m      1\u001b[0m \u001b[38;5;28;01mfrom\u001b[39;00m \u001b[38;5;21;01mpadelpy\u001b[39;00m \u001b[38;5;28;01mimport\u001b[39;00m padeldescriptor, from_smiles\n\u001b[0;32m----> 2\u001b[0m descriptor \u001b[38;5;241m=\u001b[39m \u001b[43mfrom_smiles\u001b[49m\u001b[43m(\u001b[49m\u001b[38;5;124;43m'\u001b[39;49m\u001b[38;5;124;43mData/SweetpredDB_smiles.smi\u001b[39;49m\u001b[38;5;124;43m'\u001b[39;49m\u001b[43m,\u001b[49m\u001b[43mthreads\u001b[49m\u001b[38;5;241;43m=\u001b[39;49m\u001b[38;5;241;43m2\u001b[39;49m\u001b[43m,\u001b[49m\u001b[43m \u001b[49m\u001b[43mdescriptors\u001b[49m\u001b[38;5;241;43m=\u001b[39;49m\u001b[38;5;28;43;01mTrue\u001b[39;49;00m\u001b[43m)\u001b[49m\n",
      "File \u001b[0;32m~/.python/current/lib/python3.10/site-packages/padelpy/functions.py:131\u001b[0m, in \u001b[0;36mfrom_smiles\u001b[0;34m(smiles, output_csv, descriptors, fingerprints, timeout, maxruntime, threads)\u001b[0m\n\u001b[1;32m    128\u001b[0m     \u001b[38;5;28;01mraise\u001b[39;00m \u001b[38;5;167;01mRuntimeError\u001b[39;00m(\u001b[38;5;124m\"\u001b[39m\u001b[38;5;124mPaDEL-Descriptor failed on one or more mols.\u001b[39m\u001b[38;5;124m\"\u001b[39m \u001b[38;5;241m+\u001b[39m\n\u001b[1;32m    129\u001b[0m                        \u001b[38;5;124m\"\u001b[39m\u001b[38;5;124m Ensure the input structures are correct.\u001b[39m\u001b[38;5;124m\"\u001b[39m)\n\u001b[1;32m    130\u001b[0m \u001b[38;5;28;01melif\u001b[39;00m \u001b[38;5;28mtype\u001b[39m(smiles) \u001b[38;5;241m==\u001b[39m \u001b[38;5;28mstr\u001b[39m \u001b[38;5;129;01mand\u001b[39;00m \u001b[38;5;28mlen\u001b[39m(rows) \u001b[38;5;241m==\u001b[39m \u001b[38;5;241m0\u001b[39m:\n\u001b[0;32m--> 131\u001b[0m     \u001b[38;5;28;01mraise\u001b[39;00m \u001b[38;5;167;01mRuntimeError\u001b[39;00m(\n\u001b[1;32m    132\u001b[0m         \u001b[38;5;124m\"\u001b[39m\u001b[38;5;124mPaDEL-Descriptor failed on \u001b[39m\u001b[38;5;132;01m{}\u001b[39;00m\u001b[38;5;124m.\u001b[39m\u001b[38;5;124m\"\u001b[39m\u001b[38;5;241m.\u001b[39mformat(smiles) \u001b[38;5;241m+\u001b[39m\n\u001b[1;32m    133\u001b[0m         \u001b[38;5;124m\"\u001b[39m\u001b[38;5;124m Ensure input structure is correct.\u001b[39m\u001b[38;5;124m\"\u001b[39m\n\u001b[1;32m    134\u001b[0m     )\n\u001b[1;32m    136\u001b[0m \u001b[38;5;28;01mfor\u001b[39;00m idx, r \u001b[38;5;129;01min\u001b[39;00m \u001b[38;5;28menumerate\u001b[39m(rows):\n\u001b[1;32m    137\u001b[0m     \u001b[38;5;28;01mif\u001b[39;00m \u001b[38;5;28mlen\u001b[39m(r) \u001b[38;5;241m==\u001b[39m \u001b[38;5;241m0\u001b[39m:\n",
      "\u001b[0;31mRuntimeError\u001b[0m: PaDEL-Descriptor failed on Data/SweetpredDB_smiles.smi. Ensure input structure is correct."
     ]
    }
   ],
   "source": [
    "# import "
   ]
  }
 ],
 "metadata": {
  "kernelspec": {
   "display_name": "Python 3",
   "language": "python",
   "name": "python3"
  },
  "language_info": {
   "codemirror_mode": {
    "name": "ipython",
    "version": 3
   },
   "file_extension": ".py",
   "mimetype": "text/x-python",
   "name": "python",
   "nbconvert_exporter": "python",
   "pygments_lexer": "ipython3",
   "version": "3.0.0"
  }
 },
 "nbformat": 4,
 "nbformat_minor": 2
}
